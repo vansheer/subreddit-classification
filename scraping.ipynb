{
 "cells": [
  {
   "cell_type": "code",
   "execution_count": 1,
   "metadata": {},
   "outputs": [],
   "source": [
    "import pandas as pd\n",
    "import requests\n",
    "import time"
   ]
  },
  {
   "cell_type": "markdown",
   "metadata": {},
   "source": [
    "# Data Scraping"
   ]
  },
  {
   "cell_type": "code",
   "execution_count": 2,
   "metadata": {},
   "outputs": [],
   "source": [
    "# save the api endpoint of 'Submission' to url\n",
    "url = 'https://api.pushshift.io/reddit/search/submission/'"
   ]
  },
  {
   "cell_type": "code",
   "execution_count": 10,
   "metadata": {},
   "outputs": [],
   "source": [
    "# set the current time stamp\n",
    "time_stamp = 1605904495\n",
    "# create an empty DataFrame for subreddit crossfit\n",
    "posts_cf = pd.DataFrame() \n",
    "# loop 30 times, each time grab 100 posts from subreddit crossfit but only for the subreddit, title, body and time\n",
    "# extract the most distant time stamp for the next loop\n",
    "# concatenate the posts to the Dataframe\n",
    "# wait for 60 seconds before the next loop\n",
    "# get 3000 posts from crossfit in the end\n",
    "for i in range(30): \n",
    "    params = {'subreddit': 'crossfit',\n",
    "              'size': 100,\n",
    "              'before': time_stamp,\n",
    "              'fields': ['subreddit', 'selftext', 'title', 'created_utc']\n",
    "         }\n",
    "    req = requests.get(url, params)\n",
    "    req_content = req.json()['data']\n",
    "    post_temp = pd.DataFrame(req_content)\n",
    "    time_stamp = req.json()['data'][-1]['created_utc']\n",
    "    posts_cf = pd.concat((posts_cf, post_temp))\n",
    "    time.sleep(60)"
   ]
  },
  {
   "cell_type": "code",
   "execution_count": 35,
   "metadata": {},
   "outputs": [],
   "source": [
    "# set the current time stamp\n",
    "time_stamp = 1605904495\n",
    "# create an empty DataFrame for subreddit powerlifting\n",
    "posts_pl = pd.DataFrame() \n",
    "# loop 30 times, each time grab 100 posts from subreddit powerlifting but only for the subreddit, title, body and time\n",
    "# extract the most distant time stamp for the next loop\n",
    "# concatenate the posts to the Dataframe\n",
    "# wait for 60 seconds before the next loop\n",
    "# get 3000 posts from powerlifting in the end\n",
    "for i in range(30):\n",
    "    params = {'subreddit': 'powerlifting',\n",
    "              'size': 100,\n",
    "              'before': time_stamp,\n",
    "              'fields': ['subreddit', 'selftext', 'title', 'created_utc']\n",
    "         }\n",
    "    req = requests.get(url, params)\n",
    "    req_content = req.json()['data']\n",
    "    post_temp = pd.DataFrame(req_content)\n",
    "    time_stamp = req.json()['data'][-1]['created_utc']\n",
    "    posts_pl = pd.concat((posts_pl, post_temp))\n",
    "    time.sleep(60)"
   ]
  },
  {
   "cell_type": "code",
   "execution_count": 62,
   "metadata": {},
   "outputs": [],
   "source": [
    "# concatenate too DataFrames into one\n",
    "posts_total = pd.concat((posts_cf, posts_pl))"
   ]
  },
  {
   "cell_type": "code",
   "execution_count": 64,
   "metadata": {},
   "outputs": [],
   "source": [
    "# drop rows with null value\n",
    "posts_total.dropna(inplace=True)"
   ]
  },
  {
   "cell_type": "code",
   "execution_count": 65,
   "metadata": {},
   "outputs": [
    {
     "data": {
      "text/plain": [
       "(5939, 4)"
      ]
     },
     "execution_count": 65,
     "metadata": {},
     "output_type": "execute_result"
    }
   ],
   "source": [
    "posts_total.shape"
   ]
  },
  {
   "cell_type": "code",
   "execution_count": 66,
   "metadata": {},
   "outputs": [
    {
     "name": "stdout",
     "output_type": "stream",
     "text": [
      "<class 'pandas.core.frame.DataFrame'>\n",
      "Int64Index: 5939 entries, 2 to 99\n",
      "Data columns (total 4 columns):\n",
      " #   Column       Non-Null Count  Dtype \n",
      "---  ------       --------------  ----- \n",
      " 0   created_utc  5939 non-null   int64 \n",
      " 1   selftext     5939 non-null   object\n",
      " 2   subreddit    5939 non-null   object\n",
      " 3   title        5939 non-null   object\n",
      "dtypes: int64(1), object(3)\n",
      "memory usage: 232.0+ KB\n"
     ]
    }
   ],
   "source": [
    "posts_total.info()"
   ]
  },
  {
   "cell_type": "code",
   "execution_count": 67,
   "metadata": {},
   "outputs": [],
   "source": [
    "# still a lot"
   ]
  },
  {
   "cell_type": "code",
   "execution_count": 68,
   "metadata": {},
   "outputs": [],
   "source": [
    "# save the DataFrame to a csv file\n",
    "posts_total.to_csv('data/posts.csv', index=False)"
   ]
  }
 ],
 "metadata": {
  "kernelspec": {
   "display_name": "Python 3",
   "language": "python",
   "name": "python3"
  },
  "language_info": {
   "codemirror_mode": {
    "name": "ipython",
    "version": 3
   },
   "file_extension": ".py",
   "mimetype": "text/x-python",
   "name": "python",
   "nbconvert_exporter": "python",
   "pygments_lexer": "ipython3",
   "version": "3.8.3"
  }
 },
 "nbformat": 4,
 "nbformat_minor": 4
}

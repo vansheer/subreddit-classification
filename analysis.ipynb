{
 "cells": [
  {
   "cell_type": "code",
   "execution_count": 1,
   "metadata": {},
   "outputs": [],
   "source": [
    "import pandas as pd\n",
    "import numpy as np\n",
    "import matplotlib.pyplot as plt\n",
    "import seaborn as sns\n",
    "\n",
    "from sklearn.feature_extraction.text import CountVectorizer, TfidfVectorizer\n",
    "from sklearn.preprocessing import StandardScaler\n",
    "from sklearn.linear_model import LogisticRegression\n",
    "from sklearn.neighbors import KNeighborsClassifier\n",
    "from sklearn.naive_bayes import MultinomialNB\n",
    "from sklearn.model_selection import GridSearchCV, train_test_split\n",
    "from sklearn.tree import DecisionTreeClassifier\n",
    "from sklearn.pipeline import make_pipeline\n",
    "from sklearn.ensemble import RandomForestClassifier, GradientBoostingClassifier\n",
    "from sklearn.svm import SVC\n",
    "from sklearn.metrics import f1_score\n",
    "\n",
    "import pickle"
   ]
  },
  {
   "cell_type": "markdown",
   "metadata": {},
   "source": [
    "# 2. Modeling"
   ]
  },
  {
   "cell_type": "code",
   "execution_count": 2,
   "metadata": {},
   "outputs": [],
   "source": [
    "df = pd.read_csv('data/posts_clean.csv')"
   ]
  },
  {
   "cell_type": "code",
   "execution_count": 3,
   "metadata": {},
   "outputs": [
    {
     "name": "stdout",
     "output_type": "stream",
     "text": [
      "<class 'pandas.core.frame.DataFrame'>\n",
      "RangeIndex: 2097 entries, 0 to 2096\n",
      "Data columns (total 3 columns):\n",
      " #   Column     Non-Null Count  Dtype \n",
      "---  ------     --------------  ----- \n",
      " 0   selftext   2097 non-null   object\n",
      " 1   subreddit  2097 non-null   object\n",
      " 2   title      2097 non-null   object\n",
      "dtypes: object(3)\n",
      "memory usage: 49.3+ KB\n"
     ]
    }
   ],
   "source": [
    "df.info()"
   ]
  },
  {
   "cell_type": "code",
   "execution_count": 3,
   "metadata": {},
   "outputs": [
    {
     "data": {
      "text/plain": [
       "crossfit        1761\n",
       "powerlifting     336\n",
       "Name: subreddit, dtype: int64"
      ]
     },
     "execution_count": 3,
     "metadata": {},
     "output_type": "execute_result"
    }
   ],
   "source": [
    "df['subreddit'].value_counts()"
   ]
  },
  {
   "cell_type": "code",
   "execution_count": 3,
   "metadata": {},
   "outputs": [],
   "source": [
    "X = df['selftext']\n",
    "y = df['subreddit']"
   ]
  },
  {
   "cell_type": "code",
   "execution_count": 4,
   "metadata": {},
   "outputs": [],
   "source": [
    "X_train, X_test, y_train, y_test = train_test_split(X, y, stratify = y, random_state = 12)"
   ]
  },
  {
   "cell_type": "markdown",
   "metadata": {},
   "source": [
    "#### For each of the following models, I will:\n",
    "1. Make a pipeline that includs CountVectorizer, StandardScaler and a classsfier\n",
    "2. Throw the pipe in a GridSearchCV with different params\n",
    "3. Fit the grid\n",
    "4. Save it to a pickle file for future use"
   ]
  },
  {
   "cell_type": "markdown",
   "metadata": {},
   "source": [
    "## Logistic Regression"
   ]
  },
  {
   "cell_type": "code",
   "execution_count": 6,
   "metadata": {},
   "outputs": [],
   "source": [
    "pipe_lr = make_pipeline(CountVectorizer(), StandardScaler(with_mean=False), LogisticRegression())"
   ]
  },
  {
   "cell_type": "code",
   "execution_count": 7,
   "metadata": {},
   "outputs": [
    {
     "data": {
      "text/plain": [
       "<bound method Pipeline.get_params of Pipeline(steps=[('countvectorizer', CountVectorizer()),\n",
       "                ('standardscaler', StandardScaler(with_mean=False)),\n",
       "                ('logisticregression', LogisticRegression())])>"
      ]
     },
     "execution_count": 7,
     "metadata": {},
     "output_type": "execute_result"
    }
   ],
   "source": [
    "pipe_lr.get_params"
   ]
  },
  {
   "cell_type": "code",
   "execution_count": 8,
   "metadata": {},
   "outputs": [],
   "source": [
    "params_lr = {\n",
    "    'countvectorizer__stop_words': [None, 'english'],\n",
    "    'countvectorizer__max_features': [100, 200, 300, 400, 500],\n",
    "    'countvectorizer__ngram_range': [(1, 1), (1, 2), (2, 2)],\n",
    "    'logisticregression__C': [.0001, .001, .01, .1, 1, 10, 100]\n",
    "}"
   ]
  },
  {
   "cell_type": "code",
   "execution_count": 9,
   "metadata": {},
   "outputs": [],
   "source": [
    "grid_lr = GridSearchCV(pipe_lr, param_grid=params_lr, n_jobs=-1)"
   ]
  },
  {
   "cell_type": "code",
   "execution_count": 10,
   "metadata": {},
   "outputs": [
    {
     "data": {
      "text/plain": [
       "GridSearchCV(estimator=Pipeline(steps=[('countvectorizer', CountVectorizer()),\n",
       "                                       ('standardscaler',\n",
       "                                        StandardScaler(with_mean=False)),\n",
       "                                       ('logisticregression',\n",
       "                                        LogisticRegression())]),\n",
       "             n_jobs=-1,\n",
       "             param_grid={'countvectorizer__max_features': [100, 200, 300, 400,\n",
       "                                                           500],\n",
       "                         'countvectorizer__ngram_range': [(1, 1), (1, 2),\n",
       "                                                          (2, 2)],\n",
       "                         'countvectorizer__stop_words': [None, 'english'],\n",
       "                         'logisticregression__C': [0.0001, 0.001, 0.01, 0.1, 1,\n",
       "                                                   10, 100]})"
      ]
     },
     "execution_count": 10,
     "metadata": {},
     "output_type": "execute_result"
    }
   ],
   "source": [
    "grid_lr.fit(X_train, y_train)"
   ]
  },
  {
   "cell_type": "code",
   "execution_count": 11,
   "metadata": {},
   "outputs": [
    {
     "data": {
      "text/plain": [
       "Pipeline(steps=[('countvectorizer',\n",
       "                 CountVectorizer(max_features=200, ngram_range=(1, 2),\n",
       "                                 stop_words='english')),\n",
       "                ('standardscaler', StandardScaler(with_mean=False)),\n",
       "                ('logisticregression', LogisticRegression(C=0.1))])"
      ]
     },
     "execution_count": 11,
     "metadata": {},
     "output_type": "execute_result"
    }
   ],
   "source": [
    "grid_lr.best_estimator_"
   ]
  },
  {
   "cell_type": "code",
   "execution_count": 14,
   "metadata": {},
   "outputs": [],
   "source": [
    "pickle.dump(grid_lr, open('models/logistic_recression.pkl', 'wb'))"
   ]
  },
  {
   "cell_type": "markdown",
   "metadata": {},
   "source": [
    "## KNN"
   ]
  },
  {
   "cell_type": "code",
   "execution_count": 15,
   "metadata": {},
   "outputs": [],
   "source": [
    "pipe_knn = make_pipeline(CountVectorizer(), StandardScaler(with_mean=False), KNeighborsClassifier())"
   ]
  },
  {
   "cell_type": "code",
   "execution_count": 16,
   "metadata": {},
   "outputs": [
    {
     "data": {
      "text/plain": [
       "<bound method Pipeline.get_params of Pipeline(steps=[('countvectorizer', CountVectorizer()),\n",
       "                ('standardscaler', StandardScaler(with_mean=False)),\n",
       "                ('kneighborsclassifier', KNeighborsClassifier())])>"
      ]
     },
     "execution_count": 16,
     "metadata": {},
     "output_type": "execute_result"
    }
   ],
   "source": [
    "pipe_knn.get_params"
   ]
  },
  {
   "cell_type": "code",
   "execution_count": 17,
   "metadata": {},
   "outputs": [],
   "source": [
    "params_knn = {\n",
    "    'countvectorizer__stop_words': [None, 'english'],\n",
    "    'countvectorizer__max_features': [100, 200, 300, 400, 500],\n",
    "    'countvectorizer__ngram_range': [(1, 1), (1, 2), (2, 2)],\n",
    "    'kneighborsclassifier__n_neighbors': [3, 5, 7, 9, 11, 15]\n",
    "}"
   ]
  },
  {
   "cell_type": "code",
   "execution_count": 18,
   "metadata": {},
   "outputs": [],
   "source": [
    "grid_knn = GridSearchCV(pipe_knn, param_grid=params_knn, n_jobs=-1)"
   ]
  },
  {
   "cell_type": "code",
   "execution_count": 19,
   "metadata": {},
   "outputs": [
    {
     "data": {
      "text/plain": [
       "GridSearchCV(estimator=Pipeline(steps=[('countvectorizer', CountVectorizer()),\n",
       "                                       ('standardscaler',\n",
       "                                        StandardScaler(with_mean=False)),\n",
       "                                       ('kneighborsclassifier',\n",
       "                                        KNeighborsClassifier())]),\n",
       "             n_jobs=-1,\n",
       "             param_grid={'countvectorizer__max_features': [100, 200, 300, 400,\n",
       "                                                           500],\n",
       "                         'countvectorizer__ngram_range': [(1, 1), (1, 2),\n",
       "                                                          (2, 2)],\n",
       "                         'countvectorizer__stop_words': [None, 'english'],\n",
       "                         'kneighborsclassifier__n_neighbors': [3, 5, 7, 9, 11,\n",
       "                                                               15]})"
      ]
     },
     "execution_count": 19,
     "metadata": {},
     "output_type": "execute_result"
    }
   ],
   "source": [
    "grid_knn.fit(X_train, y_train)"
   ]
  },
  {
   "cell_type": "code",
   "execution_count": 22,
   "metadata": {},
   "outputs": [],
   "source": [
    "pickle.dump(grid_knn, open('models/knn.pkl', 'wb'))"
   ]
  },
  {
   "cell_type": "markdown",
   "metadata": {},
   "source": [
    "## Naive Bays"
   ]
  },
  {
   "cell_type": "code",
   "execution_count": 23,
   "metadata": {},
   "outputs": [],
   "source": [
    "pipe_bays = make_pipeline(CountVectorizer(), StandardScaler(with_mean=False), MultinomialNB())"
   ]
  },
  {
   "cell_type": "code",
   "execution_count": 24,
   "metadata": {},
   "outputs": [
    {
     "data": {
      "text/plain": [
       "<bound method Pipeline.get_params of Pipeline(steps=[('countvectorizer', CountVectorizer()),\n",
       "                ('standardscaler', StandardScaler(with_mean=False)),\n",
       "                ('multinomialnb', MultinomialNB())])>"
      ]
     },
     "execution_count": 24,
     "metadata": {},
     "output_type": "execute_result"
    }
   ],
   "source": [
    "pipe_bays.get_params"
   ]
  },
  {
   "cell_type": "code",
   "execution_count": 25,
   "metadata": {},
   "outputs": [],
   "source": [
    "params_bays = {\n",
    "    'countvectorizer__stop_words': [None, 'english'],\n",
    "    'countvectorizer__max_features': [100, 200, 300, 400, 500],\n",
    "    'countvectorizer__ngram_range': [(1, 1), (1, 2), (2, 2)],\n",
    "    'multinomialnb__alpha': [.001, .01, .1, 10, 100]\n",
    "}"
   ]
  },
  {
   "cell_type": "code",
   "execution_count": 26,
   "metadata": {},
   "outputs": [],
   "source": [
    "grid_bays = GridSearchCV(pipe_bays, param_grid=params_bays, n_jobs=-1)"
   ]
  },
  {
   "cell_type": "code",
   "execution_count": 27,
   "metadata": {},
   "outputs": [
    {
     "data": {
      "text/plain": [
       "GridSearchCV(estimator=Pipeline(steps=[('countvectorizer', CountVectorizer()),\n",
       "                                       ('standardscaler',\n",
       "                                        StandardScaler(with_mean=False)),\n",
       "                                       ('multinomialnb', MultinomialNB())]),\n",
       "             n_jobs=-1,\n",
       "             param_grid={'countvectorizer__max_features': [100, 200, 300, 400,\n",
       "                                                           500],\n",
       "                         'countvectorizer__ngram_range': [(1, 1), (1, 2),\n",
       "                                                          (2, 2)],\n",
       "                         'countvectorizer__stop_words': [None, 'english'],\n",
       "                         'multinomialnb__alpha': [0.001, 0.01, 0.1, 10, 100]})"
      ]
     },
     "execution_count": 27,
     "metadata": {},
     "output_type": "execute_result"
    }
   ],
   "source": [
    "grid_bays.fit(X_train, y_train)"
   ]
  },
  {
   "cell_type": "code",
   "execution_count": 30,
   "metadata": {},
   "outputs": [],
   "source": [
    "pickle.dump(grid_bays, open('models/naive_bays.pkl', 'wb'))"
   ]
  },
  {
   "cell_type": "markdown",
   "metadata": {},
   "source": [
    "## Decision Tree"
   ]
  },
  {
   "cell_type": "code",
   "execution_count": 31,
   "metadata": {},
   "outputs": [],
   "source": [
    "pipe_trees = make_pipeline(CountVectorizer(), StandardScaler(with_mean=False), DecisionTreeClassifier())"
   ]
  },
  {
   "cell_type": "code",
   "execution_count": 32,
   "metadata": {},
   "outputs": [
    {
     "data": {
      "text/plain": [
       "<bound method Pipeline.get_params of Pipeline(steps=[('countvectorizer', CountVectorizer()),\n",
       "                ('standardscaler', StandardScaler(with_mean=False)),\n",
       "                ('decisiontreeclassifier', DecisionTreeClassifier())])>"
      ]
     },
     "execution_count": 32,
     "metadata": {},
     "output_type": "execute_result"
    }
   ],
   "source": [
    "pipe_trees.get_params"
   ]
  },
  {
   "cell_type": "code",
   "execution_count": 33,
   "metadata": {},
   "outputs": [],
   "source": [
    "params_trees = {\n",
    "    'countvectorizer__stop_words': [None, 'english'],\n",
    "    'countvectorizer__max_features': [100, 200, 300, 400, 500],\n",
    "    'countvectorizer__ngram_range': [(1, 1), (1, 2), (2, 2)],\n",
    "    'decisiontreeclassifier__max_depth': [3, 5, 7, 9], \n",
    "    'decisiontreeclassifier__ccp_alpha': [.0001, .001, .01, .1, 10, 100]\n",
    "}"
   ]
  },
  {
   "cell_type": "code",
   "execution_count": 34,
   "metadata": {},
   "outputs": [],
   "source": [
    "grid_trees = GridSearchCV(pipe_trees, param_grid=params_trees, n_jobs=-1)"
   ]
  },
  {
   "cell_type": "code",
   "execution_count": 35,
   "metadata": {},
   "outputs": [
    {
     "data": {
      "text/plain": [
       "GridSearchCV(estimator=Pipeline(steps=[('countvectorizer', CountVectorizer()),\n",
       "                                       ('standardscaler',\n",
       "                                        StandardScaler(with_mean=False)),\n",
       "                                       ('decisiontreeclassifier',\n",
       "                                        DecisionTreeClassifier())]),\n",
       "             n_jobs=-1,\n",
       "             param_grid={'countvectorizer__max_features': [100, 200, 300, 400,\n",
       "                                                           500],\n",
       "                         'countvectorizer__ngram_range': [(1, 1), (1, 2),\n",
       "                                                          (2, 2)],\n",
       "                         'countvectorizer__stop_words': [None, 'english'],\n",
       "                         'decisiontreeclassifier__ccp_alpha': [0.0001, 0.001,\n",
       "                                                               0.01, 0.1, 10,\n",
       "                                                               100],\n",
       "                         'decisiontreeclassifier__max_depth': [3, 5, 7, 9]})"
      ]
     },
     "execution_count": 35,
     "metadata": {},
     "output_type": "execute_result"
    }
   ],
   "source": [
    "grid_trees.fit(X_train, y_train)"
   ]
  },
  {
   "cell_type": "code",
   "execution_count": 38,
   "metadata": {},
   "outputs": [],
   "source": [
    "pickle.dump(grid_trees, open('models/decision_trees.pkl', 'wb'))"
   ]
  },
  {
   "cell_type": "markdown",
   "metadata": {},
   "source": [
    "## Random Forest"
   ]
  },
  {
   "cell_type": "code",
   "execution_count": 39,
   "metadata": {},
   "outputs": [],
   "source": [
    "pipe_random = make_pipeline(CountVectorizer(), StandardScaler(with_mean=False), RandomForestClassifier())"
   ]
  },
  {
   "cell_type": "code",
   "execution_count": 40,
   "metadata": {},
   "outputs": [
    {
     "data": {
      "text/plain": [
       "<bound method Pipeline.get_params of Pipeline(steps=[('countvectorizer', CountVectorizer()),\n",
       "                ('standardscaler', StandardScaler(with_mean=False)),\n",
       "                ('randomforestclassifier', RandomForestClassifier())])>"
      ]
     },
     "execution_count": 40,
     "metadata": {},
     "output_type": "execute_result"
    }
   ],
   "source": [
    "pipe_random.get_params"
   ]
  },
  {
   "cell_type": "code",
   "execution_count": 41,
   "metadata": {},
   "outputs": [],
   "source": [
    "params_random = {\n",
    "    'countvectorizer__stop_words': [None, 'english'],\n",
    "    'countvectorizer__max_features': [100, 200, 300, 400, 500],\n",
    "    'countvectorizer__ngram_range': [(1, 1), (1, 2), (2, 2)],\n",
    "    'randomforestclassifier__max_depth': [3, 5, 7, 9], \n",
    "    'randomforestclassifier__ccp_alpha': [.0001, .001, .01, .1, 10, 100]\n",
    "}"
   ]
  },
  {
   "cell_type": "code",
   "execution_count": 42,
   "metadata": {},
   "outputs": [],
   "source": [
    "grid_random = GridSearchCV(pipe_random, param_grid=params_random, n_jobs=-1)"
   ]
  },
  {
   "cell_type": "code",
   "execution_count": 43,
   "metadata": {},
   "outputs": [
    {
     "data": {
      "text/plain": [
       "GridSearchCV(estimator=Pipeline(steps=[('countvectorizer', CountVectorizer()),\n",
       "                                       ('standardscaler',\n",
       "                                        StandardScaler(with_mean=False)),\n",
       "                                       ('randomforestclassifier',\n",
       "                                        RandomForestClassifier())]),\n",
       "             n_jobs=-1,\n",
       "             param_grid={'countvectorizer__max_features': [100, 200, 300, 400,\n",
       "                                                           500],\n",
       "                         'countvectorizer__ngram_range': [(1, 1), (1, 2),\n",
       "                                                          (2, 2)],\n",
       "                         'countvectorizer__stop_words': [None, 'english'],\n",
       "                         'randomforestclassifier__ccp_alpha': [0.0001, 0.001,\n",
       "                                                               0.01, 0.1, 10,\n",
       "                                                               100],\n",
       "                         'randomforestclassifier__max_depth': [3, 5, 7, 9]})"
      ]
     },
     "execution_count": 43,
     "metadata": {},
     "output_type": "execute_result"
    }
   ],
   "source": [
    "grid_random.fit(X_train, y_train)"
   ]
  },
  {
   "cell_type": "code",
   "execution_count": 46,
   "metadata": {},
   "outputs": [],
   "source": [
    "pickle.dump(grid_random, open('models/random_forest.pkl', 'wb'))"
   ]
  },
  {
   "cell_type": "markdown",
   "metadata": {},
   "source": [
    "## SVM"
   ]
  },
  {
   "cell_type": "code",
   "execution_count": 47,
   "metadata": {},
   "outputs": [],
   "source": [
    "pipe_svc = make_pipeline(CountVectorizer(stop_words='english'), StandardScaler(with_mean=False), SVC())"
   ]
  },
  {
   "cell_type": "code",
   "execution_count": 48,
   "metadata": {},
   "outputs": [
    {
     "data": {
      "text/plain": [
       "<bound method Pipeline.get_params of Pipeline(steps=[('countvectorizer', CountVectorizer(stop_words='english')),\n",
       "                ('standardscaler', StandardScaler(with_mean=False)),\n",
       "                ('svc', SVC())])>"
      ]
     },
     "execution_count": 48,
     "metadata": {},
     "output_type": "execute_result"
    }
   ],
   "source": [
    "pipe_svc.get_params"
   ]
  },
  {
   "cell_type": "code",
   "execution_count": 49,
   "metadata": {},
   "outputs": [],
   "source": [
    "params_scv = {\n",
    "    'countvectorizer__max_features': [100, 200, 300, 400, 500],\n",
    "    'countvectorizer__ngram_range': [(1, 2), (2, 2)],\n",
    "    'svc__kernel': ['rbf', 'linear', 'poly']\n",
    "}"
   ]
  },
  {
   "cell_type": "code",
   "execution_count": 50,
   "metadata": {},
   "outputs": [],
   "source": [
    "grid_svc = GridSearchCV(pipe_svc, param_grid=params_scv, n_jobs=-1)"
   ]
  },
  {
   "cell_type": "code",
   "execution_count": 51,
   "metadata": {},
   "outputs": [
    {
     "data": {
      "text/plain": [
       "GridSearchCV(estimator=Pipeline(steps=[('countvectorizer',\n",
       "                                        CountVectorizer(stop_words='english')),\n",
       "                                       ('standardscaler',\n",
       "                                        StandardScaler(with_mean=False)),\n",
       "                                       ('svc', SVC())]),\n",
       "             n_jobs=-1,\n",
       "             param_grid={'countvectorizer__max_features': [100, 200, 300, 400,\n",
       "                                                           500],\n",
       "                         'countvectorizer__ngram_range': [(1, 2), (2, 2)],\n",
       "                         'svc__kernel': ['rbf', 'linear', 'poly']})"
      ]
     },
     "execution_count": 51,
     "metadata": {},
     "output_type": "execute_result"
    }
   ],
   "source": [
    "grid_svc.fit(X_train, y_train)"
   ]
  },
  {
   "cell_type": "code",
   "execution_count": 54,
   "metadata": {},
   "outputs": [
    {
     "data": {
      "text/plain": [
       "{'countvectorizer__max_features': 100,\n",
       " 'countvectorizer__ngram_range': (1, 2),\n",
       " 'svc__kernel': 'linear'}"
      ]
     },
     "execution_count": 54,
     "metadata": {},
     "output_type": "execute_result"
    }
   ],
   "source": [
    "grid_svc.best_params_"
   ]
  },
  {
   "cell_type": "code",
   "execution_count": 55,
   "metadata": {},
   "outputs": [],
   "source": [
    "pickle.dump(grid_svc, open('models/svm.pkl', 'wb'))"
   ]
  },
  {
   "cell_type": "markdown",
   "metadata": {},
   "source": [
    "## Gradient Boosting"
   ]
  },
  {
   "cell_type": "code",
   "execution_count": 56,
   "metadata": {},
   "outputs": [],
   "source": [
    "pipe_gb = make_pipeline(CountVectorizer(stop_words='english'), StandardScaler(with_mean=False), GradientBoostingClassifier())"
   ]
  },
  {
   "cell_type": "code",
   "execution_count": 57,
   "metadata": {},
   "outputs": [
    {
     "data": {
      "text/plain": [
       "<bound method Pipeline.get_params of Pipeline(steps=[('countvectorizer', CountVectorizer(stop_words='english')),\n",
       "                ('standardscaler', StandardScaler(with_mean=False)),\n",
       "                ('gradientboostingclassifier', GradientBoostingClassifier())])>"
      ]
     },
     "execution_count": 57,
     "metadata": {},
     "output_type": "execute_result"
    }
   ],
   "source": [
    "pipe_gb.get_params"
   ]
  },
  {
   "cell_type": "code",
   "execution_count": 58,
   "metadata": {},
   "outputs": [],
   "source": [
    "params_gb = {\n",
    "    'countvectorizer__max_features': [100, 200, 300, 400, 500],\n",
    "    'countvectorizer__ngram_range': [(1, 2), (2, 2)],\n",
    "    'gradientboostingclassifier__loss': ['deviance', 'exponential'],\n",
    "    'gradientboostingclassifier__n_estimators': [20, 40, 60, 80, 100],\n",
    "#     'gradientboostingclassifier__learning_rate': [0.005, 0.01, 0.1, 1, 3],\n",
    "    'gradientboostingclassifier__ccp_alpha': [.0001, .001, .01, .1, 1, 10]\n",
    "}"
   ]
  },
  {
   "cell_type": "code",
   "execution_count": 59,
   "metadata": {},
   "outputs": [],
   "source": [
    "grid_gb = GridSearchCV(pipe_gb, param_grid=params_gb, n_jobs=-1)"
   ]
  },
  {
   "cell_type": "code",
   "execution_count": 60,
   "metadata": {},
   "outputs": [
    {
     "data": {
      "text/plain": [
       "GridSearchCV(estimator=Pipeline(steps=[('countvectorizer',\n",
       "                                        CountVectorizer(stop_words='english')),\n",
       "                                       ('standardscaler',\n",
       "                                        StandardScaler(with_mean=False)),\n",
       "                                       ('gradientboostingclassifier',\n",
       "                                        GradientBoostingClassifier())]),\n",
       "             n_jobs=-1,\n",
       "             param_grid={'countvectorizer__max_features': [100, 200, 300, 400,\n",
       "                                                           500],\n",
       "                         'countvectorizer__ngram_range': [(1, 2), (2, 2)],\n",
       "                         'gradientboostingclassifier__ccp_alpha': [0.0001,\n",
       "                                                                   0.001, 0.01,\n",
       "                                                                   0.1, 1, 10],\n",
       "                         'gradientboostingclassifier__loss': ['deviance',\n",
       "                                                              'exponential'],\n",
       "                         'gradientboostingclassifier__n_estimators': [20, 40,\n",
       "                                                                      60, 80,\n",
       "                                                                      100]})"
      ]
     },
     "execution_count": 60,
     "metadata": {},
     "output_type": "execute_result"
    }
   ],
   "source": [
    "grid_gb.fit(X_train, y_train)"
   ]
  },
  {
   "cell_type": "code",
   "execution_count": 63,
   "metadata": {},
   "outputs": [
    {
     "data": {
      "text/plain": [
       "{'countvectorizer__max_features': 200,\n",
       " 'countvectorizer__ngram_range': (1, 2),\n",
       " 'gradientboostingclassifier__ccp_alpha': 0.0001,\n",
       " 'gradientboostingclassifier__loss': 'exponential',\n",
       " 'gradientboostingclassifier__n_estimators': 100}"
      ]
     },
     "execution_count": 63,
     "metadata": {},
     "output_type": "execute_result"
    }
   ],
   "source": [
    "grid_gb.best_params_"
   ]
  },
  {
   "cell_type": "code",
   "execution_count": 64,
   "metadata": {},
   "outputs": [],
   "source": [
    "pickle.dump(grid_gb, open('models/gradient_boosting.pkl', 'wb'))"
   ]
  },
  {
   "cell_type": "markdown",
   "metadata": {},
   "source": [
    "# 3. Model Evaluation"
   ]
  },
  {
   "cell_type": "code",
   "execution_count": 5,
   "metadata": {},
   "outputs": [],
   "source": [
    "with open('models/decision_trees.pkl', 'rb') as tree:\n",
    "     grid_tree = pickle.load(tree)"
   ]
  },
  {
   "cell_type": "code",
   "execution_count": 6,
   "metadata": {},
   "outputs": [],
   "source": [
    "with open('models/gradient_boosting.pkl', 'rb') as gb:\n",
    "     grid_gb = pickle.load(gb)"
   ]
  },
  {
   "cell_type": "code",
   "execution_count": 7,
   "metadata": {},
   "outputs": [],
   "source": [
    "with open('models/knn.pkl', 'rb') as knn:\n",
    "     grid_knn = pickle.load(knn)"
   ]
  },
  {
   "cell_type": "code",
   "execution_count": 8,
   "metadata": {},
   "outputs": [],
   "source": [
    "with open('models/logistic_recression.pkl', 'rb') as lr:\n",
    "     grid_lr = pickle.load(lr)"
   ]
  },
  {
   "cell_type": "code",
   "execution_count": 9,
   "metadata": {},
   "outputs": [],
   "source": [
    "with open('models/naive_bays.pkl', 'rb') as bayes:\n",
    "     grid_bayes = pickle.load(bayes)"
   ]
  },
  {
   "cell_type": "code",
   "execution_count": 10,
   "metadata": {},
   "outputs": [],
   "source": [
    "with open('models/random_forest.pkl', 'rb') as forest:\n",
    "     grid_forest = pickle.load(forest)"
   ]
  },
  {
   "cell_type": "code",
   "execution_count": 11,
   "metadata": {},
   "outputs": [],
   "source": [
    "with open('models/svm.pkl', 'rb') as svc:\n",
    "     grid_svc = pickle.load(svc)"
   ]
  },
  {
   "cell_type": "code",
   "execution_count": 18,
   "metadata": {},
   "outputs": [],
   "source": [
    "# put all the cliassifiers in a dictionary\n",
    "models = {'Decision Trees': grid_tree,\n",
    "          'Gradient': grid_gb,\n",
    "          'KNN': grid_knn,\n",
    "          'Logistic Regression': grid_lr,\n",
    "          'Naive Bays': grid_bayes,\n",
    "          'Random Forest': grid_forest,\n",
    "          'SVM': grid_svc\n",
    "          }\n"
   ]
  },
  {
   "cell_type": "code",
   "execution_count": 23,
   "metadata": {},
   "outputs": [],
   "source": [
    "# since I care both recall and precision, I'll use f1_score\n",
    "f1 = [{'train f1': f1_score(y_train, value.predict(X_train), pos_label='crossfit'),\n",
    "                'test f1': f1_score(y_test, value.predict(X_test), pos_label='crossfit')} for key, value in models.items()]"
   ]
  },
  {
   "cell_type": "code",
   "execution_count": 24,
   "metadata": {},
   "outputs": [],
   "source": [
    "# convert to a DataFrame and set classfier names as the index of the DataFrame\n",
    "results_f1 = pd.DataFrame(f1, index=models)"
   ]
  },
  {
   "cell_type": "code",
   "execution_count": 31,
   "metadata": {},
   "outputs": [],
   "source": [
    "# add a column 'overfit', if test score is no less than than train score, not overfit\n",
    "results_f1['overfit'] = np.where((results_f1['test f1'] - results_f1['train f1']) >= 0, 'N', 'Y')\n",
    "# add another column 'score spread' with train score minus test score\n",
    "results_f1['score spread'] = results_f1['train f1'] - results_f1['test f1']"
   ]
  },
  {
   "cell_type": "code",
   "execution_count": 33,
   "metadata": {},
   "outputs": [
    {
     "data": {
      "text/html": [
       "<div>\n",
       "<style scoped>\n",
       "    .dataframe tbody tr th:only-of-type {\n",
       "        vertical-align: middle;\n",
       "    }\n",
       "\n",
       "    .dataframe tbody tr th {\n",
       "        vertical-align: top;\n",
       "    }\n",
       "\n",
       "    .dataframe thead th {\n",
       "        text-align: right;\n",
       "    }\n",
       "</style>\n",
       "<table border=\"1\" class=\"dataframe\">\n",
       "  <thead>\n",
       "    <tr style=\"text-align: right;\">\n",
       "      <th></th>\n",
       "      <th>train f1</th>\n",
       "      <th>test f1</th>\n",
       "      <th>overfit</th>\n",
       "      <th>score spread</th>\n",
       "    </tr>\n",
       "  </thead>\n",
       "  <tbody>\n",
       "    <tr>\n",
       "      <th>Gradient</th>\n",
       "      <td>0.964784</td>\n",
       "      <td>0.954048</td>\n",
       "      <td>Y</td>\n",
       "      <td>0.010735</td>\n",
       "    </tr>\n",
       "    <tr>\n",
       "      <th>Decision Trees</th>\n",
       "      <td>0.954895</td>\n",
       "      <td>0.945856</td>\n",
       "      <td>Y</td>\n",
       "      <td>0.009039</td>\n",
       "    </tr>\n",
       "    <tr>\n",
       "      <th>Random Forest</th>\n",
       "      <td>0.953413</td>\n",
       "      <td>0.942060</td>\n",
       "      <td>Y</td>\n",
       "      <td>0.011353</td>\n",
       "    </tr>\n",
       "    <tr>\n",
       "      <th>SVM</th>\n",
       "      <td>0.951965</td>\n",
       "      <td>0.940152</td>\n",
       "      <td>Y</td>\n",
       "      <td>0.011813</td>\n",
       "    </tr>\n",
       "    <tr>\n",
       "      <th>Naive Bays</th>\n",
       "      <td>0.944635</td>\n",
       "      <td>0.936508</td>\n",
       "      <td>Y</td>\n",
       "      <td>0.008127</td>\n",
       "    </tr>\n",
       "    <tr>\n",
       "      <th>Logistic Regression</th>\n",
       "      <td>0.965771</td>\n",
       "      <td>0.935800</td>\n",
       "      <td>Y</td>\n",
       "      <td>0.029971</td>\n",
       "    </tr>\n",
       "    <tr>\n",
       "      <th>KNN</th>\n",
       "      <td>0.924382</td>\n",
       "      <td>0.914826</td>\n",
       "      <td>Y</td>\n",
       "      <td>0.009555</td>\n",
       "    </tr>\n",
       "  </tbody>\n",
       "</table>\n",
       "</div>"
      ],
      "text/plain": [
       "                     train f1   test f1 overfit  score spread\n",
       "Gradient             0.964784  0.954048       Y      0.010735\n",
       "Decision Trees       0.954895  0.945856       Y      0.009039\n",
       "Random Forest        0.953413  0.942060       Y      0.011353\n",
       "SVM                  0.951965  0.940152       Y      0.011813\n",
       "Naive Bays           0.944635  0.936508       Y      0.008127\n",
       "Logistic Regression  0.965771  0.935800       Y      0.029971\n",
       "KNN                  0.924382  0.914826       Y      0.009555"
      ]
     },
     "execution_count": 33,
     "metadata": {},
     "output_type": "execute_result"
    }
   ],
   "source": [
    "# and sort by test score and score spread\n",
    "results_f1.sort_values(by=['test f1', 'score spread'], ascending=False)"
   ]
  },
  {
   "cell_type": "code",
   "execution_count": 78,
   "metadata": {},
   "outputs": [],
   "source": [
    "# looks like all of them are overfitting\n",
    "# gradient boosting performs the best on test and doesn't overfit a lot, and will be my final pick\n",
    "# check feature importance\n",
    "feature = pd.DataFrame(grid_gb.best_estimator_.named_steps.gradientboostingclassifier.feature_importances_,\n",
    "                       index=grid_gb.best_estimator_.named_steps.countvectorizer.get_feature_names(),\n",
    "                       columns=['importance']\n",
    "            )"
   ]
  },
  {
   "cell_type": "code",
   "execution_count": 80,
   "metadata": {},
   "outputs": [
    {
     "data": {
      "text/html": [
       "<div>\n",
       "<style scoped>\n",
       "    .dataframe tbody tr th:only-of-type {\n",
       "        vertical-align: middle;\n",
       "    }\n",
       "\n",
       "    .dataframe tbody tr th {\n",
       "        vertical-align: top;\n",
       "    }\n",
       "\n",
       "    .dataframe thead th {\n",
       "        text-align: right;\n",
       "    }\n",
       "</style>\n",
       "<table border=\"1\" class=\"dataframe\">\n",
       "  <thead>\n",
       "    <tr style=\"text-align: right;\">\n",
       "      <th></th>\n",
       "      <th>importance</th>\n",
       "    </tr>\n",
       "  </thead>\n",
       "  <tbody>\n",
       "    <tr>\n",
       "      <th>powerlifting</th>\n",
       "      <td>0.277527</td>\n",
       "    </tr>\n",
       "    <tr>\n",
       "      <th>bench</th>\n",
       "      <td>0.144171</td>\n",
       "    </tr>\n",
       "    <tr>\n",
       "      <th>crossfit</th>\n",
       "      <td>0.128027</td>\n",
       "    </tr>\n",
       "    <tr>\n",
       "      <th>deadlift</th>\n",
       "      <td>0.117946</td>\n",
       "    </tr>\n",
       "    <tr>\n",
       "      <th>instagram</th>\n",
       "      <td>0.033289</td>\n",
       "    </tr>\n",
       "  </tbody>\n",
       "</table>\n",
       "</div>"
      ],
      "text/plain": [
       "              importance\n",
       "powerlifting    0.277527\n",
       "bench           0.144171\n",
       "crossfit        0.128027\n",
       "deadlift        0.117946\n",
       "instagram       0.033289"
      ]
     },
     "execution_count": 80,
     "metadata": {},
     "output_type": "execute_result"
    }
   ],
   "source": [
    "# check the top 5 important keywords\n",
    "feature.nlargest(5, columns='importance')"
   ]
  },
  {
   "cell_type": "code",
   "execution_count": 34,
   "metadata": {},
   "outputs": [
    {
     "data": {
      "text/plain": [
       "powerlifting    0.724771\n",
       "crossfit        0.275229\n",
       "Name: subreddit, dtype: float64"
      ]
     },
     "execution_count": 34,
     "metadata": {},
     "output_type": "execute_result"
    }
   ],
   "source": [
    "df.loc[df['selftext'].str.contains('bench')]['subreddit'].value_counts(normalize=True)"
   ]
  },
  {
   "cell_type": "markdown",
   "metadata": {},
   "source": [
    "# 4. Visualization for Slides"
   ]
  },
  {
   "cell_type": "code",
   "execution_count": 73,
   "metadata": {},
   "outputs": [
    {
     "data": {
      "image/png": "[encoded data removed]",
      "text/plain": [
       "<Figure size 1080x432 with 2 Axes>"
      ]
     },
     "metadata": {
      "needs_background": "light"
     },
     "output_type": "display_data"
    }
   ],
   "source": [
    "# plot percentage of posts that mention 'bench' and 'deadlift'\n",
    "# will use the plot in slides\n",
    "fig, ax = plt.subplots(1, 2, figsize=(15, 6))\n",
    "df.loc[df['selftext'].str.contains('bench')]['subreddit'].value_counts(normalize=True).plot(kind='barh', grid=False, title='Bench', ax=ax[0])\n",
    "df.loc[df['selftext'].str.contains('deadlift')]['subreddit'].value_counts(normalize=True).plot(kind='barh', grid=False, title='Deadlift', ax=ax[1]);\n",
    "plt.savefig('images/bench_deadlift_mention.jpg')"
   ]
  },
  {
   "cell_type": "code",
   "execution_count": 76,
   "metadata": {},
   "outputs": [
    {
     "data": {
      "image/png": "[encoded data removed]",
      "text/plain": [
       "<Figure size 720x432 with 1 Axes>"
      ]
     },
     "metadata": {
      "needs_background": "light"
     },
     "output_type": "display_data"
    }
   ],
   "source": [
    "# plot percentage of posts that mention 'Instagram'\n",
    "# will use the plot in slides\n",
    "plt.figure(figsize=(10, 6))\n",
    "df.loc[df['selftext'].str.contains('Instagram')]['subreddit'].value_counts(normalize=True).plot(kind='barh', grid=False, title='Instagram');\n",
    "plt.savefig('images/Instagram.jpg')"
   ]
  }
 ],
 "metadata": {
  "kernelspec": {
   "display_name": "Python 3",
   "language": "python",
   "name": "python3"
  },
  "language_info": {
   "codemirror_mode": {
    "name": "ipython",
    "version": 3
   },
   "file_extension": ".py",
   "mimetype": "text/x-python",
   "name": "python",
   "nbconvert_exporter": "python",
   "pygments_lexer": "ipython3",
   "version": "3.9.1"
  }
 },
 "nbformat": 4,
 "nbformat_minor": 4
}
